{
 "cells": [
  {
   "cell_type": "code",
   "execution_count": 4,
   "id": "f8911f2d",
   "metadata": {},
   "outputs": [],
   "source": [
    "text = \"Lorem Ipsum is simply dummy text of the printing and typesetting industry. Lorem Ipsum has been the industry's standard dummy text ever since the 1500s, when an unknown printer took a galley of type and scrambled it to make a type specimen book. It has survived not only five centuries, but also the leap into electronic typesetting, remaining essentially unchanged. It was popularised in the 1960s with the release of Letraset sheets containing Lorem Ipsum passages, and more recently with desktop publishing software like Aldus PageMaker including versions of Lorem Ipsum.\""
   ]
  },
  {
   "cell_type": "code",
   "execution_count": 5,
   "id": "5d22e019",
   "metadata": {},
   "outputs": [
    {
     "data": {
      "text/plain": [
       "28"
      ]
     },
     "execution_count": 5,
     "metadata": {},
     "output_type": "execute_result"
    }
   ],
   "source": [
    "text.count('')"
   ]
  },
  {
   "cell_type": "code",
   "execution_count": 6,
   "id": "6362ef77",
   "metadata": {},
   "outputs": [],
   "source": [
    "#finding substrings \n",
    " \n",
    "\n",
    "text = 'python is easy to learn'\n",
    "\n",
    "\n"
   ]
  },
  {
   "cell_type": "code",
   "execution_count": 7,
   "id": "94ca1702",
   "metadata": {},
   "outputs": [
    {
     "data": {
      "text/plain": [
       "15"
      ]
     },
     "execution_count": 7,
     "metadata": {},
     "output_type": "execute_result"
    }
   ],
   "source": [
    "text.find('to')"
   ]
  },
  {
   "cell_type": "code",
   "execution_count": null,
   "id": "e5b7d945",
   "metadata": {},
   "outputs": [],
   "source": [
    "#regular expression"
   ]
  },
  {
   "cell_type": "code",
   "execution_count": 8,
   "id": "0801de9c",
   "metadata": {},
   "outputs": [],
   "source": [
    "upper = text.upper()"
   ]
  },
  {
   "cell_type": "code",
   "execution_count": 9,
   "id": "0462c557",
   "metadata": {},
   "outputs": [
    {
     "data": {
      "text/plain": [
       "'PYTHON IS EASY TO LEARN'"
      ]
     },
     "execution_count": 9,
     "metadata": {},
     "output_type": "execute_result"
    }
   ],
   "source": [
    "upper"
   ]
  },
  {
   "cell_type": "code",
   "execution_count": 10,
   "id": "969ef032",
   "metadata": {},
   "outputs": [],
   "source": [
    "lower = text.lower()"
   ]
  },
  {
   "cell_type": "code",
   "execution_count": 11,
   "id": "a793fd9a",
   "metadata": {},
   "outputs": [
    {
     "data": {
      "text/plain": [
       "'python is easy to learn'"
      ]
     },
     "execution_count": 11,
     "metadata": {},
     "output_type": "execute_result"
    }
   ],
   "source": [
    "lower"
   ]
  },
  {
   "cell_type": "code",
   "execution_count": 13,
   "id": "61f47c83",
   "metadata": {},
   "outputs": [],
   "source": [
    "list1 = ['a', 'b', 'c', 'd']"
   ]
  },
  {
   "cell_type": "code",
   "execution_count": 14,
   "id": "7b5d87e5",
   "metadata": {},
   "outputs": [
    {
     "data": {
      "text/plain": [
       "4"
      ]
     },
     "execution_count": 14,
     "metadata": {},
     "output_type": "execute_result"
    }
   ],
   "source": [
    "len(list1)"
   ]
  },
  {
   "cell_type": "code",
   "execution_count": 29,
   "id": "62f92c00",
   "metadata": {},
   "outputs": [],
   "source": [
    "#spliting the te\n",
    "\n",
    "words = text.split()"
   ]
  },
  {
   "cell_type": "code",
   "execution_count": 30,
   "id": "77fbd6a1",
   "metadata": {},
   "outputs": [
    {
     "data": {
      "text/plain": [
       "['python', 'is', 'easy', 'to', 'learn']"
      ]
     },
     "execution_count": 30,
     "metadata": {},
     "output_type": "execute_result"
    }
   ],
   "source": [
    "words"
   ]
  },
  {
   "cell_type": "code",
   "execution_count": 21,
   "id": "1718eddd",
   "metadata": {},
   "outputs": [],
   "source": [
    "#replacing substrings \n",
    "\n",
    "\n",
    "replace = text.replace('python', 'java')"
   ]
  },
  {
   "cell_type": "code",
   "execution_count": 22,
   "id": "a8f4a492",
   "metadata": {},
   "outputs": [
    {
     "data": {
      "text/plain": [
       "'java is easy to learn'"
      ]
     },
     "execution_count": 22,
     "metadata": {},
     "output_type": "execute_result"
    }
   ],
   "source": [
    "replace"
   ]
  },
  {
   "cell_type": "code",
   "execution_count": 31,
   "id": "699021b5",
   "metadata": {},
   "outputs": [
    {
     "data": {
      "text/plain": [
       "['python', 'is', 'easy', 'to', 'learn']"
      ]
     },
     "execution_count": 31,
     "metadata": {},
     "output_type": "execute_result"
    }
   ],
   "source": [
    "words"
   ]
  },
  {
   "cell_type": "code",
   "execution_count": 39,
   "id": "fdf9de8e",
   "metadata": {},
   "outputs": [],
   "source": [
    "list1 = words[0:2]"
   ]
  },
  {
   "cell_type": "code",
   "execution_count": 45,
   "id": "1203f50e",
   "metadata": {},
   "outputs": [],
   "source": [
    "list1 = [1, 2, 3, 4, 5, 6]"
   ]
  },
  {
   "cell_type": "code",
   "execution_count": 41,
   "id": "fd1e80b5",
   "metadata": {},
   "outputs": [
    {
     "data": {
      "text/plain": [
       "1"
      ]
     },
     "execution_count": 41,
     "metadata": {},
     "output_type": "execute_result"
    }
   ],
   "source": [
    "#tuples \n",
    "\n",
    "tuple1 = (1, 2 ,3, 4, 5, 6)\n",
    "\n",
    "tuple1[0]"
   ]
  },
  {
   "cell_type": "code",
   "execution_count": 47,
   "id": "c4d34bff",
   "metadata": {},
   "outputs": [
    {
     "data": {
      "text/plain": [
       "88"
      ]
     },
     "execution_count": 47,
     "metadata": {},
     "output_type": "execute_result"
    }
   ],
   "source": [
    "import sys \n",
    "sys.getsizeof(tuple1)"
   ]
  },
  {
   "cell_type": "code",
   "execution_count": 50,
   "id": "28566c65",
   "metadata": {},
   "outputs": [],
   "source": [
    "coordinates = [3, 4]\n",
    "\n",
    "a, b = coordinates "
   ]
  },
  {
   "cell_type": "code",
   "execution_count": 51,
   "id": "1b1cd646",
   "metadata": {},
   "outputs": [
    {
     "data": {
      "text/plain": [
       "3"
      ]
     },
     "execution_count": 51,
     "metadata": {},
     "output_type": "execute_result"
    }
   ],
   "source": [
    "#append, extend "
   ]
  },
  {
   "cell_type": "code",
   "execution_count": 62,
   "id": "3c7d2b29",
   "metadata": {},
   "outputs": [],
   "source": [
    "#sets \n",
    "\n",
    "set1 = {1, 2, 3, 4, 5, 6}\n",
    "set2 = {3, 6, 8, 9}"
   ]
  },
  {
   "cell_type": "code",
   "execution_count": 63,
   "id": "f2b30eb4",
   "metadata": {},
   "outputs": [],
   "source": [
    "set3 = set1 | set2"
   ]
  },
  {
   "cell_type": "code",
   "execution_count": 64,
   "id": "2faa51d8",
   "metadata": {},
   "outputs": [],
   "source": [
    "set4 = set1 & set2"
   ]
  },
  {
   "cell_type": "code",
   "execution_count": 65,
   "id": "c59bf243",
   "metadata": {},
   "outputs": [
    {
     "data": {
      "text/plain": [
       "{3, 6}"
      ]
     },
     "execution_count": 65,
     "metadata": {},
     "output_type": "execute_result"
    }
   ],
   "source": [
    "set4"
   ]
  },
  {
   "cell_type": "code",
   "execution_count": 78,
   "id": "0e25e6e3",
   "metadata": {},
   "outputs": [],
   "source": [
    "#Dictionary\n",
    "\n",
    "dict1 = {'name': 'Abhi', 'age': 25, 'city': 'Darwin'}"
   ]
  },
  {
   "cell_type": "code",
   "execution_count": 71,
   "id": "70bfd504",
   "metadata": {},
   "outputs": [
    {
     "name": "stdout",
     "output_type": "stream",
     "text": [
      "key: name, value: Abhi\n",
      "key: age, value: 25\n",
      "key: city, value: Darwin\n"
     ]
    }
   ],
   "source": [
    "for key in dict1:\n",
    "    print(f\"key: {key}, value: {dict1[key]}\")"
   ]
  },
  {
   "cell_type": "code",
   "execution_count": 72,
   "id": "6eff27db",
   "metadata": {},
   "outputs": [
    {
     "data": {
      "text/plain": [
       "6"
      ]
     },
     "execution_count": 72,
     "metadata": {},
     "output_type": "execute_result"
    }
   ],
   "source": [
    "len(set1)\n",
    "\n",
    "list1"
   ]
  },
  {
   "cell_type": "code",
   "execution_count": 75,
   "id": "c8528b85",
   "metadata": {},
   "outputs": [],
   "source": [
    "word = 'python is good'"
   ]
  },
  {
   "cell_type": "code",
   "execution_count": 76,
   "id": "31f5cf55",
   "metadata": {},
   "outputs": [
    {
     "data": {
      "text/plain": [
       "63"
      ]
     },
     "execution_count": 76,
     "metadata": {},
     "output_type": "execute_result"
    }
   ],
   "source": [
    "import sys \n",
    "sys.getsizeof(word)"
   ]
  },
  {
   "cell_type": "code",
   "execution_count": null,
   "id": "04a9b8ec",
   "metadata": {},
   "outputs": [],
   "source": [
    "import sys \n",
    "sys.getsizeof(word)"
   ]
  },
  {
   "cell_type": "code",
   "execution_count": 80,
   "id": "950f4b04",
   "metadata": {},
   "outputs": [],
   "source": [
    "#Dictionary\n",
    "\n",
    "dict1 = {'a': 1, 'b': 2, 'c': 3}\n",
    "\n",
    "dict2 = {'z': 1, 'y': 5}\n",
    "         \n",
    "         \n",
    "merge = {**dict1, **dict2}"
   ]
  },
  {
   "cell_type": "code",
   "execution_count": 81,
   "id": "bdcbc1fe",
   "metadata": {},
   "outputs": [
    {
     "data": {
      "text/plain": [
       "{'a': 1, 'b': 2, 'c': 3, 'z': 1, 'y': 5}"
      ]
     },
     "execution_count": 81,
     "metadata": {},
     "output_type": "execute_result"
    }
   ],
   "source": [
    "merge"
   ]
  },
  {
   "cell_type": "code",
   "execution_count": null,
   "id": "2d08302f",
   "metadata": {},
   "outputs": [],
   "source": [
    "#conditional statements "
   ]
  }
 ],
 "metadata": {
  "kernelspec": {
   "display_name": "Python 3 (ipykernel)",
   "language": "python",
   "name": "python3"
  },
  "language_info": {
   "codemirror_mode": {
    "name": "ipython",
    "version": 3
   },
   "file_extension": ".py",
   "mimetype": "text/x-python",
   "name": "python",
   "nbconvert_exporter": "python",
   "pygments_lexer": "ipython3",
   "version": "3.11.5"
  }
 },
 "nbformat": 4,
 "nbformat_minor": 5
}
