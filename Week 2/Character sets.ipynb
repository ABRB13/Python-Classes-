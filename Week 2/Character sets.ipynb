{
 "cells": [
  {
   "cell_type": "code",
   "execution_count": null,
   "id": "8cae7b85",
   "metadata": {},
   "outputs": [],
   "source": [
    "A B"
   ]
  },
  {
   "cell_type": "code",
   "execution_count": 10,
   "id": "65cc716c",
   "metadata": {},
   "outputs": [
    {
     "data": {
      "text/plain": [
       "97"
      ]
     },
     "execution_count": 10,
     "metadata": {},
     "output_type": "execute_result"
    }
   ],
   "source": [
    "ord('a')"
   ]
  },
  {
   "cell_type": "code",
   "execution_count": 11,
   "id": "caf39d86",
   "metadata": {},
   "outputs": [
    {
     "data": {
      "text/plain": [
       "'a'"
      ]
     },
     "execution_count": 11,
     "metadata": {},
     "output_type": "execute_result"
    }
   ],
   "source": [
    "chr(97)"
   ]
  },
  {
   "cell_type": "code",
   "execution_count": null,
   "id": "fae353d7",
   "metadata": {},
   "outputs": [],
   "source": [
    "text=input(\"enter text to encrypt \")\n",
    "dis=5\n",
    "code=\"\"\n",
    "for ch in text:\n",
    "    ordvalue=ord(ch)\n",
    "    ciphervalue=ordvalue+dis\n",
    "    if ciphervalue > ord('z'):\n",
    "        x=ciphervalue-ord('z')\n",
    "        ciphervalue=ord('a')+x-1\n",
    "     #ciphervalue=ord('a')+dis-(ord('z')-ordvalue+1)\n",
    "    \n",
    "    code=code+chr(ciphervalue)\n",
    "print(\"encrypted text is \", code )\n"
   ]
  },
  {
   "cell_type": "code",
   "execution_count": 36,
   "id": "93899046",
   "metadata": {},
   "outputs": [
    {
     "data": {
      "text/plain": [
       "122"
      ]
     },
     "execution_count": 36,
     "metadata": {},
     "output_type": "execute_result"
    }
   ],
   "source": [
    "ord('z')"
   ]
  },
  {
   "cell_type": "code",
   "execution_count": 35,
   "id": "24540994",
   "metadata": {},
   "outputs": [
    {
     "ename": "SyntaxError",
     "evalue": "cannot assign to operator (Temp/ipykernel_31208/526883078.py, line 4)",
     "output_type": "error",
     "traceback": [
      "\u001b[1;36m  File \u001b[1;32m\"C:\\Users\\LOCALA~1\\AppData\\Local\\Temp/ipykernel_31208/526883078.py\"\u001b[1;36m, line \u001b[1;32m4\u001b[0m\n\u001b[1;33m    ciphervalue = 97 + 5 = 102\u001b[0m\n\u001b[1;37m                  ^\u001b[0m\n\u001b[1;31mSyntaxError\u001b[0m\u001b[1;31m:\u001b[0m cannot assign to operator\n"
     ]
    }
   ],
   "source": [
    "abz\n",
    "\n",
    "a = 97\n",
    "ciphervalue = 97 + 5 = 102 \n",
    "\n",
    "102 > 122 == false\n",
    "\n",
    "code = code + chr(102)\n",
    "\n",
    "z = 122\n",
    "ciphervalue = 122 + 5 = 127\n",
    "127 > 122\n",
    "x = 127 -122 = 5\n",
    "ciphervalue = 97 + 5 - 1 = 93\n",
    "code = code + chr(93)\n"
   ]
  },
  {
   "cell_type": "code",
   "execution_count": null,
   "id": "d4f944ac",
   "metadata": {},
   "outputs": [],
   "source": [
    "decrypt=)\n",
    "dis=5\n",
    "code=\"\"\n",
    "for ch in decrypt:\n",
    "    ordvalue=ord(ch)\n",
    "    ciphervalue=ordvalue-dis\n",
    "    if ciphervalue<ord('a'):\n",
    "        x=ord('a')-ciphervalue\n",
    "        ciphervalue=ord('z')-x+1\n",
    "    code=code+chr(ciphervalue)\n",
    "\n",
    "print(\"decrypted text is \", code)"
   ]
  },
  {
   "cell_type": "code",
   "execution_count": 45,
   "id": "bbaf8d59",
   "metadata": {},
   "outputs": [
    {
     "data": {
      "text/plain": [
       "'y'"
      ]
     },
     "execution_count": 45,
     "metadata": {},
     "output_type": "execute_result"
    }
   ],
   "source": [
    "chr(121)"
   ]
  },
  {
   "cell_type": "code",
   "execution_count": null,
   "id": "cd3e1e8f",
   "metadata": {},
   "outputs": [],
   "source": [
    "cyz \n",
    "\n",
    "hde \n",
    "\n",
    "x=ciphervalue-ord('z')\n",
    "ciphervalue=ord('a')+x-1\n",
    "\n",
    "encryption = \n",
    "\n",
    "ciphervalue = 99  + 5 = 104\n",
    "\n",
    "104 > 122 \n",
    "\n",
    "code = code + chr(104) #h\n",
    "\n",
    "\n",
    "ciphervalue = 121 + 5 = 126\n",
    "\n",
    "126 > 122\n",
    "x = 126 - 122 = 4\n",
    "ciphervaluye = 97 + 4 - 1 = 100 #d\n",
    "\n",
    "\n",
    "ciphervalue = 104 - 5 = 99\n",
    "\n",
    "99 < 97 #false\n",
    "\n",
    "\n",
    "code  = code + chr(99) #h\n",
    "\n",
    "\n",
    "ciphervalue = 100 - 5 = 95\n",
    "\n",
    "95 < 97 \n",
    "ord('z')-x+1\n",
    "\n",
    "x = 97 - 95 = 2\n",
    "ciphervalue = 122 - 2 + 1 = 121\n",
    "    \n",
    "\n",
    "\n",
    "\n",
    "\n",
    "\n",
    "\n",
    "\n",
    "\n"
   ]
  },
  {
   "cell_type": "code",
   "execution_count": null,
   "id": "665fb8e3",
   "metadata": {},
   "outputs": [],
   "source": []
  },
  {
   "cell_type": "code",
   "execution_count": 26,
   "id": "0a6a52d0",
   "metadata": {},
   "outputs": [
    {
     "name": "stdout",
     "output_type": "stream",
     "text": [
      "116\n"
     ]
    }
   ],
   "source": [
    "text = 'hellz'  \n",
    "shift = 5\n",
    "code = \"\"\n",
    "for char in text:\n",
    "    ordvalue = ord(char)\n",
    "    ciphervlaue = ordvalue + shift #127\n",
    "\n",
    "print()\n"
   ]
  },
  {
   "cell_type": "code",
   "execution_count": 31,
   "id": "299be220",
   "metadata": {},
   "outputs": [
    {
     "name": "stdout",
     "output_type": "stream",
     "text": [
      "fgh\n"
     ]
    }
   ],
   "source": [
    "text = 'abc'\n",
    "shift = 5\n",
    "code = ''\n",
    "for char in text:\n",
    "    ordvalue = ord(char)\n",
    "    ciphervalue = ordvalue + shift #127 \n",
    "    code = code + chr(ciphervalue)\n",
    "print(code)"
   ]
  },
  {
   "cell_type": "code",
   "execution_count": 32,
   "id": "2566aa9b",
   "metadata": {},
   "outputs": [
    {
     "name": "stdout",
     "output_type": "stream",
     "text": [
      "abc\n"
     ]
    }
   ],
   "source": [
    "text = 'fgh'\n",
    "shift = 5\n",
    "code = ''\n",
    "for char in text:\n",
    "    ordvalue = ord(char)\n",
    "    ciphervalue = ordvalue - shift #127 \n",
    "    code = code + chr(ciphervalue)\n",
    "print(code)"
   ]
  },
  {
   "cell_type": "code",
   "execution_count": 27,
   "id": "1d1d5b8f",
   "metadata": {},
   "outputs": [
    {
     "data": {
      "text/plain": [
       "97"
      ]
     },
     "execution_count": 27,
     "metadata": {},
     "output_type": "execute_result"
    }
   ],
   "source": [
    "ord('a') a-z 97-122"
   ]
  },
  {
   "cell_type": "code",
   "execution_count": 28,
   "id": "07649695",
   "metadata": {},
   "outputs": [
    {
     "data": {
      "text/plain": [
       "122"
      ]
     },
     "execution_count": 28,
     "metadata": {},
     "output_type": "execute_result"
    }
   ],
   "source": []
  },
  {
   "cell_type": "code",
   "execution_count": 22,
   "id": "eae507be",
   "metadata": {},
   "outputs": [
    {
     "data": {
      "text/plain": [
       "'z'"
      ]
     },
     "execution_count": 22,
     "metadata": {},
     "output_type": "execute_result"
    }
   ],
   "source": [
    "chr(122)"
   ]
  },
  {
   "cell_type": "code",
   "execution_count": 48,
   "id": "0658bd4d",
   "metadata": {},
   "outputs": [],
   "source": [
    "a = 5"
   ]
  },
  {
   "cell_type": "code",
   "execution_count": 50,
   "id": "199d436a",
   "metadata": {},
   "outputs": [
    {
     "data": {
      "text/plain": [
       "0"
      ]
     },
     "execution_count": 50,
     "metadata": {},
     "output_type": "execute_result"
    }
   ],
   "source": [
    "4 % 2"
   ]
  },
  {
   "cell_type": "code",
   "execution_count": 51,
   "id": "179a3a9c",
   "metadata": {},
   "outputs": [],
   "source": [
    "list1 = [1, 2, 3, 4]\n",
    "\n",
    "odd = []\n",
    "even = []\n",
    "for num in list1:\n",
    "    if num % 2 == 0:\n",
    "        even.append(num)\n",
    "    else:\n",
    "        odd.append(num)\n",
    "        "
   ]
  },
  {
   "cell_type": "code",
   "execution_count": 52,
   "id": "7839f37c",
   "metadata": {},
   "outputs": [
    {
     "data": {
      "text/plain": [
       "[1, 3]"
      ]
     },
     "execution_count": 52,
     "metadata": {},
     "output_type": "execute_result"
    }
   ],
   "source": [
    "odd"
   ]
  },
  {
   "cell_type": "code",
   "execution_count": 53,
   "id": "78d306cb",
   "metadata": {},
   "outputs": [
    {
     "data": {
      "text/plain": [
       "[2, 4]"
      ]
     },
     "execution_count": 53,
     "metadata": {},
     "output_type": "execute_result"
    }
   ],
   "source": [
    "even"
   ]
  },
  {
   "cell_type": "code",
   "execution_count": null,
   "id": "55312143",
   "metadata": {},
   "outputs": [],
   "source": []
  }
 ],
 "metadata": {
  "kernelspec": {
   "display_name": "Python 3 (ipykernel)",
   "language": "python",
   "name": "python3"
  },
  "language_info": {
   "codemirror_mode": {
    "name": "ipython",
    "version": 3
   },
   "file_extension": ".py",
   "mimetype": "text/x-python",
   "name": "python",
   "nbconvert_exporter": "python",
   "pygments_lexer": "ipython3",
   "version": "3.9.7"
  }
 },
 "nbformat": 4,
 "nbformat_minor": 5
}
