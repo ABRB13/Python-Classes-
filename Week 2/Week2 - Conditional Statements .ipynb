{
 "cells": [
  {
   "cell_type": "code",
   "execution_count": 1,
   "id": "0ae09227",
   "metadata": {},
   "outputs": [],
   "source": [
    "#list (mutable)\n",
    "\n",
    "list1 = [1, 2, 3, 'a', 'b', 'c']\n",
    "list1.append(0)"
   ]
  },
  {
   "cell_type": "code",
   "execution_count": 2,
   "id": "e7a558ac",
   "metadata": {},
   "outputs": [
    {
     "data": {
      "text/plain": [
       "[1, 2, 3, 'a', 'b', 'c', 0]"
      ]
     },
     "execution_count": 2,
     "metadata": {},
     "output_type": "execute_result"
    }
   ],
   "source": [
    "list1"
   ]
  },
  {
   "cell_type": "code",
   "execution_count": 4,
   "id": "d0dc1138",
   "metadata": {},
   "outputs": [
    {
     "ename": "AttributeError",
     "evalue": "'tuple' object has no attribute 'append'",
     "output_type": "error",
     "traceback": [
      "\u001b[1;31m---------------------------------------------------------------------------\u001b[0m",
      "\u001b[1;31mAttributeError\u001b[0m                            Traceback (most recent call last)",
      "Cell \u001b[1;32mIn[4], line 5\u001b[0m\n\u001b[0;32m      1\u001b[0m \u001b[38;5;66;03m#Tuple (immutable)\u001b[39;00m\n\u001b[0;32m      3\u001b[0m tuple1 \u001b[38;5;241m=\u001b[39m (\u001b[38;5;241m1\u001b[39m, \u001b[38;5;241m2\u001b[39m, \u001b[38;5;241m3\u001b[39m, \u001b[38;5;124m'\u001b[39m\u001b[38;5;124ma\u001b[39m\u001b[38;5;124m'\u001b[39m, \u001b[38;5;124m'\u001b[39m\u001b[38;5;124mb\u001b[39m\u001b[38;5;124m'\u001b[39m, \u001b[38;5;124m'\u001b[39m\u001b[38;5;124mc\u001b[39m\u001b[38;5;124m'\u001b[39m, \u001b[38;5;241m0\u001b[39m)\n\u001b[1;32m----> 5\u001b[0m tuple1\u001b[38;5;241m.\u001b[39mappend(\u001b[38;5;241m0\u001b[39m)\n",
      "\u001b[1;31mAttributeError\u001b[0m: 'tuple' object has no attribute 'append'"
     ]
    }
   ],
   "source": [
    "#Tuple (immutable)\n",
    "\n",
    "tuple1 = (1, 2, 3, 'a', 'b', 'c', 0)\n",
    "\n",
    "tuple1.append(1)"
   ]
  },
  {
   "cell_type": "code",
   "execution_count": 7,
   "id": "833f15b9",
   "metadata": {},
   "outputs": [
    {
     "name": "stdout",
     "output_type": "stream",
     "text": [
      "odd\n"
     ]
    }
   ],
   "source": [
    "#if-else statements \n",
    "\n",
    "\n",
    "#execute different block of code \n",
    "#based on a specified condition\n",
    "\n",
    "x = 11\n",
    "\n",
    "if x % 2 == 1:\n",
    "    print('odd')\n",
    "    \n",
    "elif: \n",
    "    \n",
    "else:\n",
    "    print('even')\n"
   ]
  },
  {
   "cell_type": "code",
   "execution_count": 10,
   "id": "1dd70164",
   "metadata": {},
   "outputs": [
    {
     "name": "stdout",
     "output_type": "stream",
     "text": [
      "don't forget to register\n"
     ]
    }
   ],
   "source": [
    "#nested if statements \n",
    "\n",
    "#decision making tool\n",
    "age = 15 \n",
    "is_student = True\n",
    "\n",
    "if age >= 18:\n",
    "    print(\"Eligible\")\n",
    "    if is_student:\n",
    "        print(\"don't forget to register\")\n",
    "    elif:\n",
    "    elif:\n",
    "        \n",
    "el"
   ]
  },
  {
   "cell_type": "code",
   "execution_count": null,
   "id": "18c5a879",
   "metadata": {},
   "outputs": [],
   "source": [
    "\n"
   ]
  },
  {
   "cell_type": "code",
   "execution_count": null,
   "id": "1c68df54",
   "metadata": {},
   "outputs": [],
   "source": [
    "##while loop \n",
    "\n",
    "\n",
    "\n",
    "\n",
    "\n"
   ]
  },
  {
   "cell_type": "code",
   "execution_count": null,
   "id": "52e29487",
   "metadata": {},
   "outputs": [],
   "source": [
    "#for loop "
   ]
  },
  {
   "cell_type": "code",
   "execution_count": null,
   "id": "2e2cbbd9",
   "metadata": {},
   "outputs": [],
   "source": [
    "#break and continue statements "
   ]
  },
  {
   "cell_type": "code",
   "execution_count": null,
   "id": "c0cdf05e",
   "metadata": {},
   "outputs": [],
   "source": [
    "#mutiple conditions "
   ]
  }
 ],
 "metadata": {
  "kernelspec": {
   "display_name": "Python 3 (ipykernel)",
   "language": "python",
   "name": "python3"
  },
  "language_info": {
   "codemirror_mode": {
    "name": "ipython",
    "version": 3
   },
   "file_extension": ".py",
   "mimetype": "text/x-python",
   "name": "python",
   "nbconvert_exporter": "python",
   "pygments_lexer": "ipython3",
   "version": "3.11.5"
  }
 },
 "nbformat": 4,
 "nbformat_minor": 5
}
