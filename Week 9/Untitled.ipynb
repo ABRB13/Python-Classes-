{
 "cells": [
  {
   "cell_type": "code",
   "execution_count": 22,
   "id": "cd5e2cb7",
   "metadata": {},
   "outputs": [
    {
     "data": {
      "text/plain": [
       "24"
      ]
     },
     "execution_count": 22,
     "metadata": {},
     "output_type": "execute_result"
    }
   ],
   "source": [
    "factorial(4)"
   ]
  },
  {
   "cell_type": "code",
   "execution_count": null,
   "id": "33058726",
   "metadata": {},
   "outputs": [],
   "source": [
    "def power(base, exp):\n",
    "    if exp == 0:\n",
    "        return 1\n",
    "    else:\n",
    "        return base * power(base, exp - 1)\n",
    "\n",
    "# Test the power fun"
   ]
  },
  {
   "cell_type": "code",
   "execution_count": null,
   "id": "8813b999",
   "metadata": {},
   "outputs": [],
   "source": [
    "#for loops,\n",
    "#conditional statemetns\n",
    "#strings and pixel manipulatio\n",
    "#encryption and decryption \n",
    "#functions \n",
    "#images, text "
   ]
  },
  {
   "cell_type": "code",
   "execution_count": 4,
   "id": "0f09d07e",
   "metadata": {},
   "outputs": [],
   "source": [
    "#base case\n",
    "\n",
    "#recursive case \n",
    "\n",
    "\n",
    "\n",
    "def power(e, n):\n",
    "    if e == 0:\n",
    "        return 1 #basecase\n",
    "    else:\n",
    "        return  e ** n\n",
    "\n",
    "\n",
    "\n",
    "#case-switch statez"
   ]
  },
  {
   "cell_type": "code",
   "execution_count": 13,
   "id": "e3cec62b",
   "metadata": {},
   "outputs": [
    {
     "name": "stdout",
     "output_type": "stream",
     "text": [
      "Df\n"
     ]
    }
   ],
   "source": [
    "print(\"Df\")"
   ]
  },
  {
   "cell_type": "code",
   "execution_count": null,
   "id": "9df282d4",
   "metadata": {},
   "outputs": [],
   "source": [
    "#algorothms\n",
    "\n",
    "problem = taks (algorithm)\n",
    "\n",
    "\n",
    "w\n",
    "#SIMPLE TASK\n",
    "\n"
   ]
  },
  {
   "cell_type": "code",
   "execution_count": 23,
   "id": "fa0e5269",
   "metadata": {},
   "outputs": [],
   "source": [
    "#base & recursive\n",
    "\n",
    "import time\n",
    "def factorial(n):\n",
    "    time1 = time.time()\n",
    "    if n == 0 or n == 1: \n",
    "        return 1\n",
    "    else:\n",
    "        return n * factorial(n - 1)\n",
    "        time2 = time.time()\n",
    "        time3 = time2 - time1\n",
    "        print(time3)\n",
    "    "
   ]
  },
  {
   "cell_type": "code",
   "execution_count": null,
   "id": "db6a56c3",
   "metadata": {},
   "outputs": [],
   "source": [
    "(10) *"
   ]
  },
  {
   "cell_type": "code",
   "execution_count": 24,
   "id": "c18d581b",
   "metadata": {},
   "outputs": [
    {
     "data": {
      "text/plain": [
       "120"
      ]
     },
     "execution_count": 24,
     "metadata": {},
     "output_type": "execute_result"
    }
   ],
   "source": [
    "factorial(5)"
   ]
  },
  {
   "cell_type": "code",
   "execution_count": null,
   "id": "6d15414e",
   "metadata": {},
   "outputs": [],
   "source": [
    "factorial = n * (n-1) * ....."
   ]
  },
  {
   "cell_type": "code",
   "execution_count": null,
   "id": "298652c6",
   "metadata": {},
   "outputs": [],
   "source": [
    "for i in range(0,5):\n",
    "    for n in "
   ]
  },
  {
   "cell_type": "code",
   "execution_count": null,
   "id": "25d9d2fc",
   "metadata": {},
   "outputs": [],
   "source": [
    "import python.py"
   ]
  },
  {
   "cell_type": "code",
   "execution_count": null,
   "id": "27e4aaab",
   "metadata": {},
   "outputs": [],
   "source": [
    "#input size and algothms, time it takes run the algorithm "
   ]
  },
  {
   "cell_type": "code",
   "execution_count": 10,
   "id": "20428feb",
   "metadata": {},
   "outputs": [
    {
     "ename": "NameError",
     "evalue": "name 'loops' is not defined",
     "output_type": "error",
     "traceback": [
      "\u001b[1;31m---------------------------------------------------------------------------\u001b[0m",
      "\u001b[1;31mNameError\u001b[0m                                 Traceback (most recent call last)",
      "Cell \u001b[1;32mIn[10], line 7\u001b[0m\n\u001b[0;32m      1\u001b[0m \u001b[38;5;66;03m#for loops, while loops, 10-20 case-switch, #\u001b[39;00m\n\u001b[0;32m      2\u001b[0m \u001b[38;5;66;03m# A algoithm is a func(). A funtion can have mutiple algorithms (funcs) #\u001b[39;00m\n\u001b[0;32m      3\u001b[0m \u001b[38;5;66;03m#functions will elimated the redundant code, refactoring. \u001b[39;00m\n\u001b[0;32m      4\u001b[0m \n\u001b[0;32m      5\u001b[0m \u001b[38;5;66;03m#recursive functions:\u001b[39;00m\n\u001b[1;32m----> 7\u001b[0m loops \n\u001b[0;32m      9\u001b[0m \u001b[38;5;28;01mdef\u001b[39;00m \u001b[38;5;21mfunc1\u001b[39m():\n\u001b[0;32m     11\u001b[0m     func1()\n",
      "\u001b[1;31mNameError\u001b[0m: name 'loops' is not defined"
     ]
    }
   ],
   "source": [
    "#for loops, while loops, 10-20 case-switch, #\n",
    "# A algoithm is a func(). A funtion can have mutiple algorithms (funcs) #\n",
    "#functions will elimated the redundant code, refactoring. \n",
    "\n",
    "#recursive functions:\n",
    "\n",
    "#loops \n",
    "#recursion\n",
    "#.py file."
   ]
  },
  {
   "cell_type": "code",
   "execution_count": null,
   "id": "1b8ffda1",
   "metadata": {},
   "outputs": [],
   "source": []
  },
  {
   "cell_type": "code",
   "execution_count": null,
   "id": "a1aad1c4",
   "metadata": {},
   "outputs": [],
   "source": []
  }
 ],
 "metadata": {
  "kernelspec": {
   "display_name": "Python 3 (ipykernel)",
   "language": "python",
   "name": "python3"
  },
  "language_info": {
   "codemirror_mode": {
    "name": "ipython",
    "version": 3
   },
   "file_extension": ".py",
   "mimetype": "text/x-python",
   "name": "python",
   "nbconvert_exporter": "python",
   "pygments_lexer": "ipython3",
   "version": "3.11.5"
  }
 },
 "nbformat": 4,
 "nbformat_minor": 5
}
