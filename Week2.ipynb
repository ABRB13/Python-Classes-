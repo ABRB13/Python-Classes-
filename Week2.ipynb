{
 "cells": [
  {
   "cell_type": "code",
   "execution_count": null,
   "id": "22270f6d",
   "metadata": {},
   "outputs": [],
   "source": [
    "#Data types\n",
    "#Expressions"
   ]
  },
  {
   "cell_type": "code",
   "execution_count": null,
   "id": "4128c30f",
   "metadata": {},
   "outputs": [],
   "source": [
    "1. #Datatypes \n",
    "  \n",
    "    # memory optim\n",
    "    #operations \n",
    "    #accurate representation\n",
    "\n",
    "#2. Expressions \n",
    "\n",
    "    #string manipulation \n",
    "    #confrol flow statements \n",
    "    #function arguments \n",
    "    "
   ]
  },
  {
   "cell_type": "code",
   "execution_count": null,
   "id": "d84cd9fc",
   "metadata": {},
   "outputs": [],
   "source": [
    "#int, float, complex, real numbers, #list, #tuples, #sets, #dict"
   ]
  },
  {
   "cell_type": "code",
   "execution_count": 4,
   "id": "be41b13a",
   "metadata": {},
   "outputs": [],
   "source": [
    "a = [1, 2, 3]"
   ]
  },
  {
   "cell_type": "code",
   "execution_count": null,
   "id": "e6cee462",
   "metadata": {},
   "outputs": [],
   "source": [
    "a = (tuples)\n",
    "dict = {k1: 'v1', k2: 'v2'}"
   ]
  },
  {
   "cell_type": "code",
   "execution_count": 3,
   "id": "35344401",
   "metadata": {},
   "outputs": [
    {
     "data": {
      "text/plain": [
       "56"
      ]
     },
     "execution_count": 3,
     "metadata": {},
     "output_type": "execute_result"
    }
   ],
   "source": [
    "import sys \n",
    "\n",
    "sys.getsizeof('adfgdfs')\n"
   ]
  },
  {
   "cell_type": "code",
   "execution_count": 5,
   "id": "7e295711",
   "metadata": {},
   "outputs": [
    {
     "data": {
      "text/plain": [
       "88"
      ]
     },
     "execution_count": 5,
     "metadata": {},
     "output_type": "execute_result"
    }
   ],
   "source": [
    "sys.getsizeof(a)"
   ]
  },
  {
   "cell_type": "code",
   "execution_count": null,
   "id": "7b221e6b",
   "metadata": {},
   "outputs": [],
   "source": [
    "help(sys)"
   ]
  },
  {
   "cell_type": "code",
   "execution_count": 8,
   "id": "117f00e5",
   "metadata": {},
   "outputs": [],
   "source": [
    "b = 'sdfsd'"
   ]
  },
  {
   "cell_type": "code",
   "execution_count": 9,
   "id": "81991810",
   "metadata": {},
   "outputs": [
    {
     "data": {
      "text/plain": [
       "str"
      ]
     },
     "execution_count": 9,
     "metadata": {},
     "output_type": "execute_result"
    }
   ],
   "source": [
    "type(b)"
   ]
  },
  {
   "cell_type": "code",
   "execution_count": null,
   "id": "24a3dd23",
   "metadata": {},
   "outputs": [],
   "source": [
    "#numerical operation \n",
    "\n",
    "# +, -. %, ** "
   ]
  },
  {
   "cell_type": "code",
   "execution_count": 10,
   "id": "80ece479",
   "metadata": {},
   "outputs": [],
   "source": [
    "a = 4 \n",
    "b = 2\n",
    "c = a  b"
   ]
  },
  {
   "cell_type": "code",
   "execution_count": 11,
   "id": "20427b4c",
   "metadata": {},
   "outputs": [
    {
     "name": "stdout",
     "output_type": "stream",
     "text": [
      "16\n"
     ]
    }
   ],
   "source": [
    "print(c)"
   ]
  },
  {
   "cell_type": "code",
   "execution_count": null,
   "id": "dc4d6a4c",
   "metadata": {},
   "outputs": [],
   "source": [
    "#slicing "
   ]
  }
 ],
 "metadata": {
  "kernelspec": {
   "display_name": "Python 3 (ipykernel)",
   "language": "python",
   "name": "python3"
  },
  "language_info": {
   "codemirror_mode": {
    "name": "ipython",
    "version": 3
   },
   "file_extension": ".py",
   "mimetype": "text/x-python",
   "name": "python",
   "nbconvert_exporter": "python",
   "pygments_lexer": "ipython3",
   "version": "3.11.5"
  }
 },
 "nbformat": 4,
 "nbformat_minor": 5
}
