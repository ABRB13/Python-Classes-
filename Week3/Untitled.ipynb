{
 "cells": [
  {
   "cell_type": "code",
   "execution_count": null,
   "id": "71af8e6f",
   "metadata": {},
   "outputs": [],
   "source": [
    "#if-elif-else\n",
    "#nested if\n",
    "#for loops\n",
    "#while loops\n",
    "#continue break statements"
   ]
  },
  {
   "cell_type": "code",
   "execution_count": null,
   "id": "30407ecc",
   "metadata": {},
   "outputs": [],
   "source": [
    "#if-elif-else\n",
    "\n",
    "\n",
    "password = input(\"Enter the password: \")\n",
    "if len(password) > 8:\n",
    "    print(\"pass is short\")\n",
    "    \n",
    "elif password.isalpha():\n",
    "    print(\"should contain numbers and letter and cha\")\n",
    "elif password.isdigit():\n",
    "    pass \n",
    "    \n",
    "else:\n",
    "    print('pass accpeted)')"
   ]
  },
  {
   "cell_type": "code",
   "execution_count": null,
   "id": "87b7790f",
   "metadata": {},
   "outputs": [],
   "source": [
    "def ad(a,b):\n",
    "    c = a + b\n",
    "    return c"
   ]
  },
  {
   "cell_type": "code",
   "execution_count": 1,
   "id": "3e21236a",
   "metadata": {},
   "outputs": [
    {
     "name": "stdout",
     "output_type": "stream",
     "text": [
      "enter number: 3\n",
      "3\n",
      "6\n",
      "9\n",
      "12\n",
      "15\n",
      "18\n",
      "21\n",
      "24\n",
      "27\n",
      "30\n"
     ]
    }
   ],
   "source": [
    "num = int(input(\"enter number: \"))\n",
    "\n",
    "count = 1\n",
    "\n",
    "while count <= 10:\n",
    "    prod = num * count #num  * 1, num * 2, num * 3\n",
    "    print(prod)\n",
    "    count = count + 1  #count = 2, count = 3 #iterative step"
   ]
  },
  {
   "cell_type": "code",
   "execution_count": 5,
   "id": "0b2e8699",
   "metadata": {},
   "outputs": [
    {
     "name": "stdout",
     "output_type": "stream",
     "text": [
      "-1\n"
     ]
    }
   ],
   "source": [
    "print(num)"
   ]
  },
  {
   "cell_type": "code",
   "execution_count": 4,
   "id": "dca2ec2e",
   "metadata": {},
   "outputs": [
    {
     "data": {
      "text/plain": [
       "True"
      ]
     },
     "execution_count": 4,
     "metadata": {},
     "output_type": "execute_result"
    }
   ],
   "source": [
    "s = 'dsfjllk'\n",
    "\n",
    "s.isalpha()"
   ]
  },
  {
   "cell_type": "code",
   "execution_count": 8,
   "id": "96cb0812",
   "metadata": {},
   "outputs": [
    {
     "name": "stdout",
     "output_type": "stream",
     "text": [
      "0\n",
      "1\n",
      "2\n",
      "3\n",
      "4\n",
      "5\n",
      "6\n",
      "7\n",
      "8\n",
      "9\n"
     ]
    }
   ],
   "source": [
    "for i in range(0, 10):\n",
    "    print(i)"
   ]
  },
  {
   "cell_type": "code",
   "execution_count": 12,
   "id": "bef30624",
   "metadata": {},
   "outputs": [
    {
     "name": "stdout",
     "output_type": "stream",
     "text": [
      "0 h\n",
      "1 e\n",
      "2 l\n",
      "3 l\n",
      "4 o\n",
      "5  \n",
      "6 w\n",
      "7 o\n",
      "8 r\n",
      "9 l\n",
      "10 d\n"
     ]
    }
   ],
   "source": [
    "text = 'hello world'\n",
    "\n",
    "for index in range(len(text)):\n",
    "    print(index, text[index])"
   ]
  },
  {
   "cell_type": "code",
   "execution_count": 15,
   "id": "9ebd4725",
   "metadata": {},
   "outputs": [
    {
     "name": "stdout",
     "output_type": "stream",
     "text": [
      "0\n",
      "1\n",
      "2\n",
      "3\n",
      "4\n",
      "5\n",
      "6\n",
      "7\n",
      "8\n",
      "9\n",
      "10\n"
     ]
    }
   ],
   "source": [
    "for i in range(len(text)):\n",
    "    print(i)"
   ]
  },
  {
   "cell_type": "code",
   "execution_count": null,
   "id": "3dfeff12",
   "metadata": {},
   "outputs": [],
   "source": [
    "is_numeric"
   ]
  },
  {
   "cell_type": "code",
   "execution_count": 43,
   "id": "bf3ab2dc",
   "metadata": {},
   "outputs": [
    {
     "name": "stdout",
     "output_type": "stream",
     "text": [
      "Enter Text To Encrypt: dsf\n",
      "Encrypted Text is:  ixk\n",
      "Enter Text To Decrypt: \n",
      "Decrypted Text is:  \n"
     ]
    }
   ],
   "source": [
    "text=input(\"Enter Text To Encrypt: \")\n",
    "dis=5\n",
    "code=\"\"\n",
    "for ch in text:\n",
    "    ordvalue=ord(ch)\n",
    "    ciphervalue=ordvalue+dis\n",
    "    if ciphervalue>ord('z'):\n",
    "        x=ciphervalue-ord('z')\n",
    "        ciphervalue=ord('a')+x-1\n",
    " #ciphervalue=ord('a')+dis-(ord('z')-ordvalue+1)\n",
    "    code=code+chr(ciphervalue)\n",
    "print(\"Encrypted Text is: \", code )\n",
    "\n",
    "#program continues\n",
    "#for you to workout\n",
    "decrypt=input(\"Enter Text To Decrypt: \")\n",
    "dis=5\n",
    "code=\"\"\n",
    "for ch in decrypt:\n",
    "    ordvalue=ord(ch)\n",
    "    ciphervalue=ordvalue-dis\n",
    "    if ciphervalue<ord('a'):\n",
    "        x=ord('a')-ciphervalue\n",
    "        ciphervalue=ord('z')-x+1\n",
    " #ciphervalue=ord('a')+dis-(ord('z')-ordvalue+1)\n",
    "    code=code+chr(ciphervalue)\n",
    "print(\"Decrypted Text is: \", code)\n"
   ]
  },
  {
   "cell_type": "code",
   "execution_count": 55,
   "id": "e9564433",
   "metadata": {},
   "outputs": [
    {
     "ename": "SyntaxError",
     "evalue": "invalid syntax (1562799081.py, line 8)",
     "output_type": "error",
     "traceback": [
      "\u001b[1;36m  Cell \u001b[1;32mIn[55], line 8\u001b[1;36m\u001b[0m\n\u001b[1;33m    if i == :\u001b[0m\n\u001b[1;37m            ^\u001b[0m\n\u001b[1;31mSyntaxError\u001b[0m\u001b[1;31m:\u001b[0m invalid syntax\n"
     ]
    }
   ],
   "source": [
    "# #while, loops, control folow statemetns \n",
    "\n",
    "# #break, continue, pass \n",
    "\n",
    "num = [1, 2, 10, 100, 20, 30]\n",
    "\n",
    "for i in num:\n",
    "    if con1:\n",
    "        \n",
    "    elif con2:\n",
    "        pass\n",
    "        \n",
    "    print('current number', i)\n",
    "       \n",
    "#pass in the 'do nothing'"
   ]
  },
  {
   "cell_type": "code",
   "execution_count": 57,
   "id": "1d51b88e",
   "metadata": {},
   "outputs": [
    {
     "name": "stdout",
     "output_type": "stream",
     "text": [
      "slipt\n",
      "the\n",
      "text\n",
      "into\n",
      "words\n"
     ]
    }
   ],
   "source": [
    "text = \"slipt the text into words\"\n",
    "words = text.split()\n",
    "for char in words:\n",
    "    print(char)\n",
    "    "
   ]
  },
  {
   "cell_type": "code",
   "execution_count": 66,
   "id": "9cc1ea16",
   "metadata": {},
   "outputs": [
    {
     "name": "stdout",
     "output_type": "stream",
     "text": [
      "0 Abhi\n",
      "1 Adam\n",
      "2 Alex\n"
     ]
    }
   ],
   "source": [
    "names = ['Abhi', 'Adam', 'Alex']\n",
    "\n",
    "for i, n in enumerate(names):\n",
    "    print(i, n)\n",
    "\n",
    "\n",
    "        "
   ]
  },
  {
   "cell_type": "code",
   "execution_count": 70,
   "id": "5d5cd86c",
   "metadata": {},
   "outputs": [],
   "source": [
    "def addition(a,b):\n",
    "    c = a + b \n",
    "    print(c)"
   ]
  },
  {
   "cell_type": "code",
   "execution_count": 68,
   "id": "c4ab9625",
   "metadata": {},
   "outputs": [],
   "source": [
    "#if-elif-else\n",
    "def password_checker(password):\n",
    "\n",
    "    if len(password) > 8:\n",
    "        print(\"pass is short\")\n",
    "\n",
    "    elif password.isalpha():\n",
    "        print(\"should contain numbers and letter and cha\")\n",
    "    elif password.isdigit():\n",
    "        pass \n",
    "\n",
    "    else:\n",
    "        print('pass accpeted)')"
   ]
  },
  {
   "cell_type": "code",
   "execution_count": 72,
   "id": "7e303b47",
   "metadata": {},
   "outputs": [],
   "source": [
    "#functions\n",
    "#global, local variables \n",
    "#file operations\n",
    "\n",
    "\n"
   ]
  }
 ],
 "metadata": {
  "kernelspec": {
   "display_name": "Python 3 (ipykernel)",
   "language": "python",
   "name": "python3"
  },
  "language_info": {
   "codemirror_mode": {
    "name": "ipython",
    "version": 3
   },
   "file_extension": ".py",
   "mimetype": "text/x-python",
   "name": "python",
   "nbconvert_exporter": "python",
   "pygments_lexer": "ipython3",
   "version": "3.11.5"
  }
 },
 "nbformat": 4,
 "nbformat_minor": 5
}
