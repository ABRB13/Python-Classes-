{
 "cells": [
  {
   "cell_type": "code",
   "execution_count": null,
   "id": "bd214c4f",
   "metadata": {},
   "outputs": [],
   "source": [
    "#list comp's"
   ]
  },
  {
   "cell_type": "code",
   "execution_count": 6,
   "id": "304e23bf",
   "metadata": {},
   "outputs": [
    {
     "data": {
      "text/plain": [
       "[0, 1, 2, 3, 4, 5, 6, 7, 8, 9]"
      ]
     },
     "execution_count": 6,
     "metadata": {},
     "output_type": "execute_result"
    }
   ],
   "source": [
    "x = [i for i in range(10)]\n",
    "x"
   ]
  },
  {
   "cell_type": "code",
   "execution_count": 4,
   "id": "3e075377",
   "metadata": {},
   "outputs": [],
   "source": [
    "x = []\n",
    "for i in range(20): #iteration 1: i = 0; 2: i = 1\n",
    "    if i%2==0:\n",
    "        x.append(i)"
   ]
  },
  {
   "cell_type": "code",
   "execution_count": 5,
   "id": "cb7d944e",
   "metadata": {},
   "outputs": [
    {
     "data": {
      "text/plain": [
       "[0, 2, 4, 6, 8, 10, 12, 14, 16, 18]"
      ]
     },
     "execution_count": 5,
     "metadata": {},
     "output_type": "execute_result"
    }
   ],
   "source": [
    "x"
   ]
  },
  {
   "cell_type": "code",
   "execution_count": 7,
   "id": "b12e09c8",
   "metadata": {},
   "outputs": [],
   "source": [
    "x = [i for i in range(20) if i%2==0]"
   ]
  },
  {
   "cell_type": "code",
   "execution_count": 8,
   "id": "7c62d7e3",
   "metadata": {},
   "outputs": [
    {
     "data": {
      "text/plain": [
       "[0, 2, 4, 6, 8, 10, 12, 14, 16, 18]"
      ]
     },
     "execution_count": 8,
     "metadata": {},
     "output_type": "execute_result"
    }
   ],
   "source": [
    "x"
   ]
  },
  {
   "cell_type": "code",
   "execution_count": 9,
   "id": "5f2670f9",
   "metadata": {},
   "outputs": [],
   "source": [
    "string = 'hello 12345 world'"
   ]
  },
  {
   "cell_type": "code",
   "execution_count": 11,
   "id": "a8bbd8ff",
   "metadata": {},
   "outputs": [],
   "source": [
    "numbers = []\n",
    "for i in string: #1: i = h; 2: e\n",
    "    if i.isdigit() == True:\n",
    "        numbers.append(i)"
   ]
  },
  {
   "cell_type": "code",
   "execution_count": 12,
   "id": "d4a99e40",
   "metadata": {},
   "outputs": [
    {
     "data": {
      "text/plain": [
       "['1', '2', '3', '4', '5']"
      ]
     },
     "execution_count": 12,
     "metadata": {},
     "output_type": "execute_result"
    }
   ],
   "source": [
    "numbers"
   ]
  },
  {
   "cell_type": "code",
   "execution_count": 13,
   "id": "b368e2c6",
   "metadata": {},
   "outputs": [
    {
     "data": {
      "text/plain": [
       "['1', '2', '3', '4', '5']"
      ]
     },
     "execution_count": 13,
     "metadata": {},
     "output_type": "execute_result"
    }
   ],
   "source": [
    "numbers = [x for x in string if x.isdigit()]\n",
    "numbers"
   ]
  },
  {
   "cell_type": "code",
   "execution_count": null,
   "id": "f8d5f30f",
   "metadata": {},
   "outputs": [],
   "source": [
    "with open('test1.txt', 'w') as file:\n",
    "    file.write('line1\\n')\n",
    "    file.write('line2\\n')\n",
    "file.close()"
   ]
  },
  {
   "cell_type": "code",
   "execution_count": 14,
   "id": "5b1191d6",
   "metadata": {},
   "outputs": [
    {
     "data": {
      "text/plain": [
       "range(0, 10)"
      ]
     },
     "execution_count": 14,
     "metadata": {},
     "output_type": "execute_result"
    }
   ],
   "source": [
    "range(10)"
   ]
  },
  {
   "cell_type": "code",
   "execution_count": 16,
   "id": "60c2fd50",
   "metadata": {},
   "outputs": [
    {
     "name": "stdout",
     "output_type": "stream",
     "text": [
      "0\n",
      "1\n",
      "2\n",
      "3\n",
      "4\n",
      "5\n",
      "6\n",
      "7\n",
      "8\n",
      "9\n"
     ]
    }
   ],
   "source": [
    "for i in range(0, 10):\n",
    "    print(i)"
   ]
  },
  {
   "cell_type": "code",
   "execution_count": 18,
   "id": "a9db1994",
   "metadata": {},
   "outputs": [],
   "source": [
    "websites = ['amazon', 'ebay']\n",
    "extension = ['com', 'org']"
   ]
  },
  {
   "cell_type": "code",
   "execution_count": 19,
   "id": "861abca6",
   "metadata": {},
   "outputs": [
    {
     "name": "stdout",
     "output_type": "stream",
     "text": [
      "['www.amazon.com', 'www.amazon.org', 'www.ebay.com', 'www.ebay.org']\n"
     ]
    }
   ],
   "source": [
    "print(['www.' + x + '.' + i for x in websites for i in extension])"
   ]
  },
  {
   "cell_type": "code",
   "execution_count": null,
   "id": "9ffcbea1",
   "metadata": {},
   "outputs": [],
   "source": [
    "for x in websites: #amazon #ebay\n",
    "    for i in extension: #i = com; "
   ]
  },
  {
   "cell_type": "code",
   "execution_count": 20,
   "id": "4fbef2d7",
   "metadata": {},
   "outputs": [],
   "source": [
    "#dict comprehensions \n",
    "\n",
    "dict1 = {1: 1, 2: 4, 3: 9}"
   ]
  },
  {
   "cell_type": "code",
   "execution_count": 22,
   "id": "e3f01906",
   "metadata": {},
   "outputs": [
    {
     "name": "stdout",
     "output_type": "stream",
     "text": [
      "enter a number: 10\n",
      "{'Square of1': 1, 'Square of2': 4, 'Square of3': 9, 'Square of4': 16, 'Square of5': 25, 'Square of6': 36, 'Square of7': 49, 'Square of8': 64, 'Square of9': 81}\n"
     ]
    }
   ],
   "source": [
    "print({'Square of' + str(item): item * item for item in range(1, int(input('enter a number: ')))})"
   ]
  },
  {
   "cell_type": "code",
   "execution_count": null,
   "id": "7b1f5948",
   "metadata": {},
   "outputs": [],
   "source": [
    "# functions global, local and non-local variables "
   ]
  }
 ],
 "metadata": {
  "kernelspec": {
   "display_name": "Python 3 (ipykernel)",
   "language": "python",
   "name": "python3"
  },
  "language_info": {
   "codemirror_mode": {
    "name": "ipython",
    "version": 3
   },
   "file_extension": ".py",
   "mimetype": "text/x-python",
   "name": "python",
   "nbconvert_exporter": "python",
   "pygments_lexer": "ipython3",
   "version": "3.9.7"
  }
 },
 "nbformat": 4,
 "nbformat_minor": 5
}
